{
  "cells": [
    {
      "cell_type": "code",
      "execution_count": 1,
      "metadata": {
        "id": "ZH1aj7Pe0_ZC"
      },
      "outputs": [],
      "source": [
        "#Step1: Import necessary libraries and packages\n",
        "import pandas as pd\n",
        "import os\n",
        "import numpy as np\n",
        "import tensorflow as tf\n",
        "from tensorflow.keras.preprocessing.sequence import pad_sequences\n",
        "from tensorflow.keras.layers import Embedding, LSTM, Dense, Bidirectional\n",
        "from tensorflow.keras.preprocessing.text import Tokenizer\n",
        "from tensorflow.keras.models import Sequential\n",
        "from tensorflow.keras.optimizers import Adam"
      ]
    },
    {
      "cell_type": "code",
      "execution_count": 2,
      "metadata": {
        "colab": {
          "base_uri": "https://localhost:8080/",
          "height": 206
        },
        "id": "zZkZ4SV50_c5",
        "outputId": "29fd9b4e-be1e-4ea5-dd29-6ef91a465b3e"
      },
      "outputs": [
        {
          "output_type": "execute_result",
          "data": {
            "text/plain": [
              "   Unnamed: 0 label                                                sms\n",
              "0           0   ham  Go until jurong point, crazy.. Available only ...\n",
              "1           1   ham                      Ok lar... Joking wif u oni...\n",
              "2           2  spam  Free entry in 2 a wkly comp to win FA Cup fina...\n",
              "3           3   ham  U dun say so early hor... U c already then say...\n",
              "4           4   ham  Nah I don't think he goes to usf, he lives aro..."
            ],
            "text/html": [
              "\n",
              "  <div id=\"df-0e5e747f-538b-4012-b241-defc906275b0\" class=\"colab-df-container\">\n",
              "    <div>\n",
              "<style scoped>\n",
              "    .dataframe tbody tr th:only-of-type {\n",
              "        vertical-align: middle;\n",
              "    }\n",
              "\n",
              "    .dataframe tbody tr th {\n",
              "        vertical-align: top;\n",
              "    }\n",
              "\n",
              "    .dataframe thead th {\n",
              "        text-align: right;\n",
              "    }\n",
              "</style>\n",
              "<table border=\"1\" class=\"dataframe\">\n",
              "  <thead>\n",
              "    <tr style=\"text-align: right;\">\n",
              "      <th></th>\n",
              "      <th>Unnamed: 0</th>\n",
              "      <th>label</th>\n",
              "      <th>sms</th>\n",
              "    </tr>\n",
              "  </thead>\n",
              "  <tbody>\n",
              "    <tr>\n",
              "      <th>0</th>\n",
              "      <td>0</td>\n",
              "      <td>ham</td>\n",
              "      <td>Go until jurong point, crazy.. Available only ...</td>\n",
              "    </tr>\n",
              "    <tr>\n",
              "      <th>1</th>\n",
              "      <td>1</td>\n",
              "      <td>ham</td>\n",
              "      <td>Ok lar... Joking wif u oni...</td>\n",
              "    </tr>\n",
              "    <tr>\n",
              "      <th>2</th>\n",
              "      <td>2</td>\n",
              "      <td>spam</td>\n",
              "      <td>Free entry in 2 a wkly comp to win FA Cup fina...</td>\n",
              "    </tr>\n",
              "    <tr>\n",
              "      <th>3</th>\n",
              "      <td>3</td>\n",
              "      <td>ham</td>\n",
              "      <td>U dun say so early hor... U c already then say...</td>\n",
              "    </tr>\n",
              "    <tr>\n",
              "      <th>4</th>\n",
              "      <td>4</td>\n",
              "      <td>ham</td>\n",
              "      <td>Nah I don't think he goes to usf, he lives aro...</td>\n",
              "    </tr>\n",
              "  </tbody>\n",
              "</table>\n",
              "</div>\n",
              "    <div class=\"colab-df-buttons\">\n",
              "\n",
              "  <div class=\"colab-df-container\">\n",
              "    <button class=\"colab-df-convert\" onclick=\"convertToInteractive('df-0e5e747f-538b-4012-b241-defc906275b0')\"\n",
              "            title=\"Convert this dataframe to an interactive table.\"\n",
              "            style=\"display:none;\">\n",
              "\n",
              "  <svg xmlns=\"http://www.w3.org/2000/svg\" height=\"24px\" viewBox=\"0 -960 960 960\">\n",
              "    <path d=\"M120-120v-720h720v720H120Zm60-500h600v-160H180v160Zm220 220h160v-160H400v160Zm0 220h160v-160H400v160ZM180-400h160v-160H180v160Zm440 0h160v-160H620v160ZM180-180h160v-160H180v160Zm440 0h160v-160H620v160Z\"/>\n",
              "  </svg>\n",
              "    </button>\n",
              "\n",
              "  <style>\n",
              "    .colab-df-container {\n",
              "      display:flex;\n",
              "      gap: 12px;\n",
              "    }\n",
              "\n",
              "    .colab-df-convert {\n",
              "      background-color: #E8F0FE;\n",
              "      border: none;\n",
              "      border-radius: 50%;\n",
              "      cursor: pointer;\n",
              "      display: none;\n",
              "      fill: #1967D2;\n",
              "      height: 32px;\n",
              "      padding: 0 0 0 0;\n",
              "      width: 32px;\n",
              "    }\n",
              "\n",
              "    .colab-df-convert:hover {\n",
              "      background-color: #E2EBFA;\n",
              "      box-shadow: 0px 1px 2px rgba(60, 64, 67, 0.3), 0px 1px 3px 1px rgba(60, 64, 67, 0.15);\n",
              "      fill: #174EA6;\n",
              "    }\n",
              "\n",
              "    .colab-df-buttons div {\n",
              "      margin-bottom: 4px;\n",
              "    }\n",
              "\n",
              "    [theme=dark] .colab-df-convert {\n",
              "      background-color: #3B4455;\n",
              "      fill: #D2E3FC;\n",
              "    }\n",
              "\n",
              "    [theme=dark] .colab-df-convert:hover {\n",
              "      background-color: #434B5C;\n",
              "      box-shadow: 0px 1px 3px 1px rgba(0, 0, 0, 0.15);\n",
              "      filter: drop-shadow(0px 1px 2px rgba(0, 0, 0, 0.3));\n",
              "      fill: #FFFFFF;\n",
              "    }\n",
              "  </style>\n",
              "\n",
              "    <script>\n",
              "      const buttonEl =\n",
              "        document.querySelector('#df-0e5e747f-538b-4012-b241-defc906275b0 button.colab-df-convert');\n",
              "      buttonEl.style.display =\n",
              "        google.colab.kernel.accessAllowed ? 'block' : 'none';\n",
              "\n",
              "      async function convertToInteractive(key) {\n",
              "        const element = document.querySelector('#df-0e5e747f-538b-4012-b241-defc906275b0');\n",
              "        const dataTable =\n",
              "          await google.colab.kernel.invokeFunction('convertToInteractive',\n",
              "                                                    [key], {});\n",
              "        if (!dataTable) return;\n",
              "\n",
              "        const docLinkHtml = 'Like what you see? Visit the ' +\n",
              "          '<a target=\"_blank\" href=https://colab.research.google.com/notebooks/data_table.ipynb>data table notebook</a>'\n",
              "          + ' to learn more about interactive tables.';\n",
              "        element.innerHTML = '';\n",
              "        dataTable['output_type'] = 'display_data';\n",
              "        await google.colab.output.renderOutput(dataTable, element);\n",
              "        const docLink = document.createElement('div');\n",
              "        docLink.innerHTML = docLinkHtml;\n",
              "        element.appendChild(docLink);\n",
              "      }\n",
              "    </script>\n",
              "  </div>\n",
              "\n",
              "\n",
              "<div id=\"df-7697c349-1848-4458-9b0a-f57e00d5d4b3\">\n",
              "  <button class=\"colab-df-quickchart\" onclick=\"quickchart('df-7697c349-1848-4458-9b0a-f57e00d5d4b3')\"\n",
              "            title=\"Suggest charts.\"\n",
              "            style=\"display:none;\">\n",
              "\n",
              "<svg xmlns=\"http://www.w3.org/2000/svg\" height=\"24px\"viewBox=\"0 0 24 24\"\n",
              "     width=\"24px\">\n",
              "    <g>\n",
              "        <path d=\"M19 3H5c-1.1 0-2 .9-2 2v14c0 1.1.9 2 2 2h14c1.1 0 2-.9 2-2V5c0-1.1-.9-2-2-2zM9 17H7v-7h2v7zm4 0h-2V7h2v10zm4 0h-2v-4h2v4z\"/>\n",
              "    </g>\n",
              "</svg>\n",
              "  </button>\n",
              "\n",
              "<style>\n",
              "  .colab-df-quickchart {\n",
              "      --bg-color: #E8F0FE;\n",
              "      --fill-color: #1967D2;\n",
              "      --hover-bg-color: #E2EBFA;\n",
              "      --hover-fill-color: #174EA6;\n",
              "      --disabled-fill-color: #AAA;\n",
              "      --disabled-bg-color: #DDD;\n",
              "  }\n",
              "\n",
              "  [theme=dark] .colab-df-quickchart {\n",
              "      --bg-color: #3B4455;\n",
              "      --fill-color: #D2E3FC;\n",
              "      --hover-bg-color: #434B5C;\n",
              "      --hover-fill-color: #FFFFFF;\n",
              "      --disabled-bg-color: #3B4455;\n",
              "      --disabled-fill-color: #666;\n",
              "  }\n",
              "\n",
              "  .colab-df-quickchart {\n",
              "    background-color: var(--bg-color);\n",
              "    border: none;\n",
              "    border-radius: 50%;\n",
              "    cursor: pointer;\n",
              "    display: none;\n",
              "    fill: var(--fill-color);\n",
              "    height: 32px;\n",
              "    padding: 0;\n",
              "    width: 32px;\n",
              "  }\n",
              "\n",
              "  .colab-df-quickchart:hover {\n",
              "    background-color: var(--hover-bg-color);\n",
              "    box-shadow: 0 1px 2px rgba(60, 64, 67, 0.3), 0 1px 3px 1px rgba(60, 64, 67, 0.15);\n",
              "    fill: var(--button-hover-fill-color);\n",
              "  }\n",
              "\n",
              "  .colab-df-quickchart-complete:disabled,\n",
              "  .colab-df-quickchart-complete:disabled:hover {\n",
              "    background-color: var(--disabled-bg-color);\n",
              "    fill: var(--disabled-fill-color);\n",
              "    box-shadow: none;\n",
              "  }\n",
              "\n",
              "  .colab-df-spinner {\n",
              "    border: 2px solid var(--fill-color);\n",
              "    border-color: transparent;\n",
              "    border-bottom-color: var(--fill-color);\n",
              "    animation:\n",
              "      spin 1s steps(1) infinite;\n",
              "  }\n",
              "\n",
              "  @keyframes spin {\n",
              "    0% {\n",
              "      border-color: transparent;\n",
              "      border-bottom-color: var(--fill-color);\n",
              "      border-left-color: var(--fill-color);\n",
              "    }\n",
              "    20% {\n",
              "      border-color: transparent;\n",
              "      border-left-color: var(--fill-color);\n",
              "      border-top-color: var(--fill-color);\n",
              "    }\n",
              "    30% {\n",
              "      border-color: transparent;\n",
              "      border-left-color: var(--fill-color);\n",
              "      border-top-color: var(--fill-color);\n",
              "      border-right-color: var(--fill-color);\n",
              "    }\n",
              "    40% {\n",
              "      border-color: transparent;\n",
              "      border-right-color: var(--fill-color);\n",
              "      border-top-color: var(--fill-color);\n",
              "    }\n",
              "    60% {\n",
              "      border-color: transparent;\n",
              "      border-right-color: var(--fill-color);\n",
              "    }\n",
              "    80% {\n",
              "      border-color: transparent;\n",
              "      border-right-color: var(--fill-color);\n",
              "      border-bottom-color: var(--fill-color);\n",
              "    }\n",
              "    90% {\n",
              "      border-color: transparent;\n",
              "      border-bottom-color: var(--fill-color);\n",
              "    }\n",
              "  }\n",
              "</style>\n",
              "\n",
              "  <script>\n",
              "    async function quickchart(key) {\n",
              "      const quickchartButtonEl =\n",
              "        document.querySelector('#' + key + ' button');\n",
              "      quickchartButtonEl.disabled = true;  // To prevent multiple clicks.\n",
              "      quickchartButtonEl.classList.add('colab-df-spinner');\n",
              "      try {\n",
              "        const charts = await google.colab.kernel.invokeFunction(\n",
              "            'suggestCharts', [key], {});\n",
              "      } catch (error) {\n",
              "        console.error('Error during call to suggestCharts:', error);\n",
              "      }\n",
              "      quickchartButtonEl.classList.remove('colab-df-spinner');\n",
              "      quickchartButtonEl.classList.add('colab-df-quickchart-complete');\n",
              "    }\n",
              "    (() => {\n",
              "      let quickchartButtonEl =\n",
              "        document.querySelector('#df-7697c349-1848-4458-9b0a-f57e00d5d4b3 button');\n",
              "      quickchartButtonEl.style.display =\n",
              "        google.colab.kernel.accessAllowed ? 'block' : 'none';\n",
              "    })();\n",
              "  </script>\n",
              "</div>\n",
              "    </div>\n",
              "  </div>\n"
            ]
          },
          "metadata": {},
          "execution_count": 2
        }
      ],
      "source": [
        "#Step 2: Dataset consists of sms text and whether that is a spam sms or non-spam sms\n",
        "df = pd.read_csv('/content/sms_spam.csv') #Note: Need to provide proper path of the dataset\n",
        "df.head()"
      ]
    },
    {
      "cell_type": "code",
      "execution_count": 3,
      "metadata": {
        "colab": {
          "base_uri": "https://localhost:8080/"
        },
        "id": "ujAiGpOt_1Z-",
        "outputId": "93eab250-eb0f-404a-ec38-357bbd4c49b0"
      },
      "outputs": [
        {
          "output_type": "stream",
          "name": "stdout",
          "text": [
            "Number of records:  5572\n",
            "Number of fields:  3\n"
          ]
        }
      ],
      "source": [
        "#Task 1: Show total number of rows and columns as number of records and fields resp\n",
        "print(\"Number of records: \", df.shape[0])\n",
        "print(\"Number of fields: \", df.shape[1])"
      ]
    },
    {
      "cell_type": "code",
      "execution_count": 4,
      "metadata": {
        "colab": {
          "base_uri": "https://localhost:8080/"
        },
        "id": "NvOfGL1t_1dU",
        "outputId": "e2c9d172-a66f-4506-e59f-481c28301a4b"
      },
      "outputs": [
        {
          "output_type": "execute_result",
          "data": {
            "text/plain": [
              "0       Go until jurong point, crazy.. Available only ...\n",
              "1                           Ok lar... Joking wif u oni...\n",
              "2       Free entry in 2 a wkly comp to win FA Cup fina...\n",
              "3       U dun say so early hor... U c already then say...\n",
              "4       Nah I don't think he goes to usf, he lives aro...\n",
              "                              ...                        \n",
              "5567    This is the 2nd time we have tried 2 contact u...\n",
              "5568                 Will ü b going to esplanade fr home?\n",
              "5569    Pity, * was in mood for that. So...any other s...\n",
              "5570    The guy did some bitching but I acted like i'd...\n",
              "5571                           Rofl. Its true to its name\n",
              "Name: sms, Length: 5572, dtype: object"
            ]
          },
          "metadata": {},
          "execution_count": 4
        }
      ],
      "source": [
        "#Task 2: Show the contents under 'sms' column\n",
        "df['sms']"
      ]
    },
    {
      "cell_type": "code",
      "execution_count": 5,
      "metadata": {
        "id": "uKZ7Wva-_1gl"
      },
      "outputs": [],
      "source": [
        "#Task 3: Any dataset, scraped from html contains a number of \\xa0 unicode.\n",
        "#This non-breaking space in Latin1 (ISO 8859-1) needs to be replaced with a space\n",
        "df['sms'] = df['sms'].apply(lambda x: x.replace(u'\\xa0',u' '))\n",
        "df['sms'] = df['sms'].apply(lambda x: x.replace('\\u200a',' '))\n",
        "\n",
        "df['sms'] = df['sms'].apply(lambda x: x.replace(u'&lt;#&gt;',u' '))\n",
        "df['sms'] = df['sms'].apply(lambda x: x.replace(u'Â;',u' '))"
      ]
    },
    {
      "cell_type": "code",
      "execution_count": 6,
      "metadata": {
        "colab": {
          "base_uri": "https://localhost:8080/"
        },
        "id": "ocHWifJb_1jm",
        "outputId": "b5298aa8-83ab-4b1f-c8a5-e50803197b3f"
      },
      "outputs": [
        {
          "output_type": "stream",
          "name": "stdout",
          "text": [
            "Total number of words:  9011\n",
            "\n",
            " Word: ID\n",
            "<oov>:  1\n",
            "entry:  490\n",
            "Until:  472\n"
          ]
        }
      ],
      "source": [
        "#Step 3: Tokenization and indexing each word:\n",
        "#Tokens can be words, paragraphs, sentences, punctuations, etc.\n",
        "#\"Low-level tokens\" are the unigrams in these words which doesn’t make sense while \"High-level tokens\" are the complete words\n",
        "tokenizer = Tokenizer(oov_token='<oov>') # For those words which are not found in word_index\n",
        "tokenizer.fit_on_texts(df['sms'])\n",
        "total_words = len(tokenizer.word_index) + 1\n",
        "\n",
        "print(\"Total number of words: \", total_words)\n",
        "print(\"\\n Word: ID\")\n",
        "print(\"<oov>: \", tokenizer.word_index['<oov>'])\n",
        "print(\"entry: \", tokenizer.word_index['entry'])\n",
        "print(\"Until: \", tokenizer.word_index['until'])"
      ]
    },
    {
      "cell_type": "code",
      "execution_count": 7,
      "metadata": {
        "colab": {
          "base_uri": "https://localhost:8080/"
        },
        "id": "tkBhWTda_1md",
        "outputId": "d9d0cb06-e72f-4b44-f7ff-c28233131c5d"
      },
      "outputs": [
        {
          "output_type": "stream",
          "name": "stdout",
          "text": [
            "Total input sequences:  82480\n"
          ]
        }
      ],
      "source": [
        "#Step 4: Transforms each text in texts to a sequence of integers.\n",
        "input_sequences = []\n",
        "for line in df['sms']:\n",
        "    token_list = tokenizer.texts_to_sequences([line])[0]\n",
        "    #print(token_list)\n",
        "\n",
        "    for i in range(1, len(token_list)):\n",
        "        n_gram_sequence = token_list[:i+1]\n",
        "        input_sequences.append(n_gram_sequence)\n",
        "\n",
        "# print(input_sequences)\n",
        "print(\"Total input sequences: \", len(input_sequences))"
      ]
    },
    {
      "cell_type": "code",
      "execution_count": 8,
      "metadata": {
        "colab": {
          "base_uri": "https://localhost:8080/"
        },
        "id": "jVY_1VGs_1pm",
        "outputId": "b59ad6b9-e0be-4efa-db5b-bdb8bc7d10ba"
      },
      "outputs": [
        {
          "output_type": "execute_result",
          "data": {
            "text/plain": [
              "array([   0,    0,    0,    0,    0,    0,    0,    0,    0,    0,    0,\n",
              "          0,    0,    0,    0,    0,    0,    0,    0,    0,    0,    0,\n",
              "          0,    0,    0,    0,    0,    0,    0,    0,    0,    0,    0,\n",
              "          0,    0,    0,    0,    0,    0,    0,    0,    0,    0,    0,\n",
              "          0,    0,    0,    0,    0,    0,    0,    0,    0,    0,    0,\n",
              "          0,    0,    0,    0,    0,    0,    0,    0,    0,    0,    0,\n",
              "          0,    0,    0,    0,    0,    0,    0,    0,    0,    0,    0,\n",
              "          0,    0,    0,    0,    0,    0,    0,    0,    0,    0,    0,\n",
              "          0,    0,    0,    0,    0,    0,    0,    0,    0,    0,    0,\n",
              "          0,    0,    0,    0,    0,    0,    0,    0,    0,    0,    0,\n",
              "          0,    0,    0,    0,    0,    0,    0,    0,    0,    0,    0,\n",
              "          0,    0,    0,    0,    0,    0,    0,    0,    0,    0,    0,\n",
              "          0,    0,    0,    0,    0,    0,    0,    0,    0,    0,    0,\n",
              "          0,    0,    0,    0,    0,    0,    0,    0,    0,    0,    0,\n",
              "          0,    0,    0,    0,    0,    0,    0,    0,    0,    0,    0,\n",
              "          0,    0,    0,    0,    0,    0,    0,    0,    0,    0,    0,\n",
              "          0,    0,    0,    0,    0,    0,    0,    0,    0,    0,   48,\n",
              "        472, 4437], dtype=int32)"
            ]
          },
          "metadata": {},
          "execution_count": 8
        }
      ],
      "source": [
        "# Step5: pad sequences: To make length of every title same\n",
        "max_sequence_len = max([len(x) for x in input_sequences])\n",
        "input_sequences = np.array(pad_sequences(input_sequences, maxlen=max_sequence_len, padding='pre'))\n",
        "input_sequences[1]"
      ]
    },
    {
      "cell_type": "code",
      "execution_count": 9,
      "metadata": {
        "id": "bpsQ4Ax-_1sV"
      },
      "outputs": [],
      "source": [
        "# Step 6: create features and label. Last element of all sequences as a label and then perform onehot encoding\n",
        "##Multi-class classification\n",
        "xs, labels = input_sequences[:,:-1],input_sequences[:,-1]\n",
        "ys = tf.keras.utils.to_categorical(labels, num_classes=total_words)"
      ]
    },
    {
      "cell_type": "code",
      "execution_count": 10,
      "metadata": {
        "colab": {
          "base_uri": "https://localhost:8080/"
        },
        "id": "DrbEYCyj_1vm",
        "outputId": "389a3b3a-8865-42a5-906d-6fb377d4d539"
      },
      "outputs": [
        {
          "output_type": "stream",
          "name": "stdout",
          "text": [
            "[   0    0    0    0    0    0    0    0    0    0    0    0    0    0\n",
            "    0    0    0    0    0    0    0    0    0    0    0    0    0    0\n",
            "    0    0    0    0    0    0    0    0    0    0    0    0    0    0\n",
            "    0    0    0    0    0    0    0    0    0    0    0    0    0    0\n",
            "    0    0    0    0    0    0    0    0    0    0    0    0    0    0\n",
            "    0    0    0    0    0    0    0    0    0    0    0    0    0    0\n",
            "    0    0    0    0    0    0    0    0    0    0    0    0    0    0\n",
            "    0    0    0    0    0    0    0    0    0    0    0    0    0    0\n",
            "    0    0    0    0    0    0    0    0    0    0    0    0    0    0\n",
            "    0    0    0    0    0    0    0    0    0    0    0    0    0    0\n",
            "    0    0    0    0    0    0    0    0    0    0    0    0    0    0\n",
            "    0    0    0    0    0    0    0    0    0    0    0    0    0    0\n",
            "    0    0    0    0    0    0    0    0    0    0    0    0    0    0\n",
            "   48  472 4437  843  756  659]\n",
            "63\n",
            "0.0\n"
          ]
        }
      ],
      "source": [
        "print(xs[5])\n",
        "print(labels[5])\n",
        "print(ys[5][14])"
      ]
    },
    {
      "cell_type": "code",
      "execution_count": 11,
      "metadata": {
        "colab": {
          "base_uri": "https://localhost:8080/"
        },
        "id": "0t4_V_kY_1yt",
        "outputId": "bc1a018f-9289-43f7-ee9a-2eec0583d41e"
      },
      "outputs": [
        {
          "output_type": "stream",
          "name": "stderr",
          "text": [
            "WARNING:absl:`lr` is deprecated in Keras optimizer, please use `learning_rate` or use the legacy optimizer, e.g.,tf.keras.optimizers.legacy.Adam.\n"
          ]
        },
        {
          "output_type": "stream",
          "name": "stdout",
          "text": [
            "Epoch 1/50\n",
            "2578/2578 [==============================] - 123s 43ms/step - loss: 6.8826 - accuracy: 0.0430\n",
            "Epoch 2/50\n",
            "2578/2578 [==============================] - 68s 26ms/step - loss: 5.9591 - accuracy: 0.0911\n",
            "Epoch 3/50\n",
            "2578/2578 [==============================] - 67s 26ms/step - loss: 5.2813 - accuracy: 0.1431\n",
            "Epoch 4/50\n",
            "2578/2578 [==============================] - 66s 26ms/step - loss: 4.7221 - accuracy: 0.1953\n",
            "Epoch 5/50\n",
            "2578/2578 [==============================] - 65s 25ms/step - loss: 4.2481 - accuracy: 0.2420\n",
            "Epoch 6/50\n",
            "2578/2578 [==============================] - 64s 25ms/step - loss: 3.8444 - accuracy: 0.2869\n",
            "Epoch 7/50\n",
            "2578/2578 [==============================] - 66s 26ms/step - loss: 3.4909 - accuracy: 0.3332\n",
            "Epoch 8/50\n",
            "2578/2578 [==============================] - 66s 25ms/step - loss: 3.1784 - accuracy: 0.3810\n",
            "Epoch 9/50\n",
            "2578/2578 [==============================] - 65s 25ms/step - loss: 2.9031 - accuracy: 0.4246\n",
            "Epoch 10/50\n",
            "2578/2578 [==============================] - 66s 25ms/step - loss: 2.6630 - accuracy: 0.4645\n",
            "Epoch 11/50\n",
            "2578/2578 [==============================] - 65s 25ms/step - loss: 2.4493 - accuracy: 0.4999\n",
            "Epoch 12/50\n",
            "2578/2578 [==============================] - 67s 26ms/step - loss: 2.2582 - accuracy: 0.5355\n",
            "Epoch 13/50\n",
            "2578/2578 [==============================] - 66s 25ms/step - loss: 2.0860 - accuracy: 0.5652\n",
            "Epoch 14/50\n",
            "2578/2578 [==============================] - 65s 25ms/step - loss: 1.9324 - accuracy: 0.5940\n",
            "Epoch 15/50\n",
            "2578/2578 [==============================] - 67s 26ms/step - loss: 1.7960 - accuracy: 0.6190\n",
            "Epoch 16/50\n",
            "2578/2578 [==============================] - 66s 26ms/step - loss: 1.6703 - accuracy: 0.6439\n",
            "Epoch 17/50\n",
            "2578/2578 [==============================] - 65s 25ms/step - loss: 1.5556 - accuracy: 0.6663\n",
            "Epoch 18/50\n",
            "2578/2578 [==============================] - 65s 25ms/step - loss: 1.4552 - accuracy: 0.6864\n",
            "Epoch 19/50\n",
            "2578/2578 [==============================] - 65s 25ms/step - loss: 1.3627 - accuracy: 0.7042\n",
            "Epoch 20/50\n",
            "2578/2578 [==============================] - 65s 25ms/step - loss: 1.2790 - accuracy: 0.7199\n",
            "Epoch 21/50\n",
            "2578/2578 [==============================] - 65s 25ms/step - loss: 1.2000 - accuracy: 0.7360\n",
            "Epoch 22/50\n",
            "2578/2578 [==============================] - 66s 25ms/step - loss: 1.1307 - accuracy: 0.7511\n",
            "Epoch 23/50\n",
            "2578/2578 [==============================] - 65s 25ms/step - loss: 1.0660 - accuracy: 0.7643\n",
            "Epoch 24/50\n",
            "2578/2578 [==============================] - 65s 25ms/step - loss: 1.0082 - accuracy: 0.7761\n",
            "Epoch 25/50\n",
            "2578/2578 [==============================] - 72s 28ms/step - loss: 0.9531 - accuracy: 0.7886\n",
            "Epoch 26/50\n",
            "2578/2578 [==============================] - 73s 28ms/step - loss: 0.9056 - accuracy: 0.7979\n",
            "Epoch 27/50\n",
            "2578/2578 [==============================] - 66s 26ms/step - loss: 0.8626 - accuracy: 0.8073\n",
            "Epoch 28/50\n",
            "2578/2578 [==============================] - 65s 25ms/step - loss: 0.8219 - accuracy: 0.8164\n",
            "Epoch 29/50\n",
            "2578/2578 [==============================] - 65s 25ms/step - loss: 0.7829 - accuracy: 0.8249\n",
            "Epoch 30/50\n",
            "2578/2578 [==============================] - 65s 25ms/step - loss: 0.7492 - accuracy: 0.8311\n",
            "Epoch 31/50\n",
            "2578/2578 [==============================] - 67s 26ms/step - loss: 0.7195 - accuracy: 0.8376\n",
            "Epoch 32/50\n",
            "2578/2578 [==============================] - 65s 25ms/step - loss: 0.6854 - accuracy: 0.8458\n",
            "Epoch 33/50\n",
            "2578/2578 [==============================] - 66s 26ms/step - loss: 0.6604 - accuracy: 0.8513\n",
            "Epoch 34/50\n",
            "2578/2578 [==============================] - 66s 25ms/step - loss: 0.6360 - accuracy: 0.8554\n",
            "Epoch 35/50\n",
            "2578/2578 [==============================] - 65s 25ms/step - loss: 0.6149 - accuracy: 0.8594\n",
            "Epoch 36/50\n",
            "2578/2578 [==============================] - 64s 25ms/step - loss: 0.5940 - accuracy: 0.8648\n",
            "Epoch 37/50\n",
            "2578/2578 [==============================] - 65s 25ms/step - loss: 0.5772 - accuracy: 0.8681\n",
            "Epoch 38/50\n",
            "2578/2578 [==============================] - 65s 25ms/step - loss: 0.5611 - accuracy: 0.8710\n",
            "Epoch 39/50\n",
            "2578/2578 [==============================] - 72s 28ms/step - loss: 0.5445 - accuracy: 0.8757\n",
            "Epoch 40/50\n",
            "2578/2578 [==============================] - 65s 25ms/step - loss: 0.5292 - accuracy: 0.8772\n",
            "Epoch 41/50\n",
            "2578/2578 [==============================] - 67s 26ms/step - loss: 0.5181 - accuracy: 0.8801\n",
            "Epoch 42/50\n",
            "2578/2578 [==============================] - 65s 25ms/step - loss: 0.5052 - accuracy: 0.8830\n",
            "Epoch 43/50\n",
            "2578/2578 [==============================] - 67s 26ms/step - loss: 0.4934 - accuracy: 0.8845\n",
            "Epoch 44/50\n",
            "2578/2578 [==============================] - 65s 25ms/step - loss: 0.4820 - accuracy: 0.8884\n",
            "Epoch 45/50\n",
            "2578/2578 [==============================] - 65s 25ms/step - loss: 0.4760 - accuracy: 0.8880\n",
            "Epoch 46/50\n",
            "2578/2578 [==============================] - 70s 27ms/step - loss: 0.4657 - accuracy: 0.8898\n",
            "Epoch 47/50\n",
            "2578/2578 [==============================] - 67s 26ms/step - loss: 0.4602 - accuracy: 0.8908\n",
            "Epoch 48/50\n",
            "2578/2578 [==============================] - 65s 25ms/step - loss: 0.4505 - accuracy: 0.8920\n",
            "Epoch 49/50\n",
            "2578/2578 [==============================] - 65s 25ms/step - loss: 0.4415 - accuracy: 0.8956\n",
            "Epoch 50/50\n",
            "2578/2578 [==============================] - 65s 25ms/step - loss: 0.4466 - accuracy: 0.8920\n",
            "<keras.src.engine.sequential.Sequential object at 0x7e674a27d120>\n"
          ]
        }
      ],
      "source": [
        "model = Sequential()\n",
        "model.add(Embedding(total_words, 100, input_length=max_sequence_len-1)) #100 is output_dimension\n",
        "model.add(Bidirectional(LSTM(150))) #150 nodes\n",
        "model.add(Dense(total_words, activation='softmax'))\n",
        "adam = Adam(lr=0.01)\n",
        "model.compile(loss='categorical_crossentropy', optimizer=adam, metrics=['accuracy'])\n",
        "history = model.fit(xs, ys, epochs=50, verbose=1)\n",
        "#print model.summary()\n",
        "print(model)"
      ]
    },
    {
      "cell_type": "markdown",
      "source": [
        "After 50th epoch, accuracy achieved is 0.8920"
      ],
      "metadata": {
        "id": "j_gTBSgggpkW"
      }
    },
    {
      "cell_type": "code",
      "execution_count": 12,
      "metadata": {
        "colab": {
          "base_uri": "https://localhost:8080/",
          "height": 449
        },
        "id": "uCg_-lRH_117",
        "outputId": "320d1f59-f803-4069-a4ac-ad4a15a88db3"
      },
      "outputs": [
        {
          "output_type": "display_data",
          "data": {
            "text/plain": [
              "<Figure size 640x480 with 1 Axes>"
            ],
            "image/png": "[encoded data removed]"
          },
          "metadata": {}
        }
      ],
      "source": [
        "#Step 7: Plotting model accuracy and loss\n",
        "import matplotlib.pyplot as plt\n",
        "\n",
        "def plot_graphs(history, string):\n",
        "    plt.plot(history.history[string])\n",
        "    plt.xlabel(\"Epochs\")\n",
        "    plt.ylabel(string)\n",
        "    plt.show()\n",
        "plot_graphs(history, 'accuracy')"
      ]
    },
    {
      "cell_type": "code",
      "execution_count": 13,
      "metadata": {
        "colab": {
          "base_uri": "https://localhost:8080/",
          "height": 449
        },
        "id": "Z06_274n_18N",
        "outputId": "637c2057-f593-4486-a6ff-d3bbc9b908df"
      },
      "outputs": [
        {
          "output_type": "display_data",
          "data": {
            "text/plain": [
              "<Figure size 640x480 with 1 Axes>"
            ],
            "image/png": "[encoded data removed]"
          },
          "metadata": {}
        }
      ],
      "source": [
        "plot_graphs(history, 'loss')"
      ]
    },
    {
      "cell_type": "code",
      "execution_count": 19,
      "metadata": {
        "colab": {
          "base_uri": "https://localhost:8080/"
        },
        "id": "RQtoZrlC_1_M",
        "outputId": "f2a6ba82-ae3f-4e86-8b75-b9b942412d47"
      },
      "outputs": [
        {
          "output_type": "stream",
          "name": "stdout",
          "text": [
            "1/1 [==============================] - 0s 34ms/step\n",
            "1/1 [==============================] - 0s 42ms/step\n",
            "1/1 [==============================] - 0s 37ms/step\n",
            "1/1 [==============================] - 0s 36ms/step\n"
          ]
        }
      ],
      "source": [
        "seed_text = \"Just forced myself\"\n",
        "next_words = 4 #predict next 4 words\n",
        "\n",
        "for _ in range(next_words): #iteration makes the next word prediction richer\n",
        "    token_list = tokenizer.texts_to_sequences([seed_text])[0]\n",
        "    token_list = pad_sequences([token_list], maxlen=max_sequence_len-1, padding='pre')\n",
        "#     predicted = model.predict_classes(token_list, verbose=0)\n",
        "    predicted=model.predict(token_list)\n",
        "    predicted=np.argmax(predicted,axis=1) #argmax will let us know the position of highest probablity\n",
        "    output_word = \"\"\n",
        "    for word, index in tokenizer.word_index.items():\n",
        "        if index == predicted:\n",
        "            output_word = word\n",
        "            break\n",
        "    seed_text += \" \" + output_word"
      ]
    },
    {
      "cell_type": "code",
      "execution_count": 20,
      "metadata": {
        "colab": {
          "base_uri": "https://localhost:8080/"
        },
        "id": "lk3b5ad4fbMJ",
        "outputId": "2a672c37-e71f-47cf-a232-8eec4a567772"
      },
      "outputs": [
        {
          "output_type": "stream",
          "name": "stdout",
          "text": [
            "Just forced myself to eat a slice\n"
          ]
        }
      ],
      "source": [
        "print(seed_text)"
      ]
    },
    {
      "cell_type": "code",
      "execution_count": null,
      "metadata": {
        "colab": {
          "background_save": true
        },
        "id": "CkkQqtnzfbPp"
      },
      "outputs": [],
      "source": []
    },
    {
      "cell_type": "code",
      "execution_count": null,
      "metadata": {
        "colab": {
          "background_save": true
        },
        "id": "fnIPEwgKfbTR"
      },
      "outputs": [],
      "source": []
    }
  ],
  "metadata": {
    "accelerator": "GPU",
    "colab": {
      "provenance": [],
      "gpuType": "T4"
    },
    "kernelspec": {
      "display_name": "Python 3",
      "name": "python3"
    },
    "language_info": {
      "name": "python"
    }
  },
  "nbformat": 4,
  "nbformat_minor": 0
}
